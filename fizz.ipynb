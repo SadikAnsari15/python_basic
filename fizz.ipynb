{
 "cells": [
  {
   "cell_type": "markdown",
   "id": "6ea7aa14",
   "metadata": {},
   "source": [
    "# Given a number n, for each integer i in the range¶ from 1 to n inclusive, print one value per line as follows: • Ifi is a multiple of both 3 and 5, print FizzBuzz. • If iis a multiple of 3(but not 5), print Fizz. • Ifi is a multiple of 5(but not 3), print Buzz. • If i is not a multiple of 3 or 5, print the value of i.​"
   ]
  },
  {
   "cell_type": "code",
   "execution_count": 1,
   "id": "5e0ceb58",
   "metadata": {},
   "outputs": [
    {
     "name": "stdout",
     "output_type": "stream",
     "text": [
      "1\n",
      "2\n",
      "Fizz\n",
      "4\n",
      "Buzz\n",
      "Fizz\n",
      "7\n",
      "8\n",
      "Fizz\n",
      "Buzz\n",
      "11\n",
      "Fizz\n",
      "13\n",
      "14\n",
      "FizzBuzz\n",
      "16\n",
      "17\n",
      "Fizz\n",
      "19\n",
      "Buzz\n",
      "Fizz\n",
      "22\n",
      "23\n",
      "Fizz\n",
      "Buzz\n",
      "26\n",
      "Fizz\n",
      "28\n",
      "29\n",
      "FizzBuzz\n"
     ]
    }
   ],
   "source": [
    "def fizzBuzz(n):\n",
    "    # Write your code here\n",
    "    for i in range(1,n+1):\n",
    "        if (i%15==0):\n",
    "            print('FizzBuzz')\n",
    "        elif(i%3==0):\n",
    "            print('Fizz')\n",
    "        elif(i%5==0):\n",
    "            print('Buzz')\n",
    "        else:\n",
    "            print(i)\n",
    "fizzBuzz(30)"
   ]
  },
  {
   "cell_type": "code",
   "execution_count": null,
   "id": "d3cf1ee1",
   "metadata": {},
   "outputs": [],
   "source": []
  }
 ],
 "metadata": {
  "kernelspec": {
   "display_name": "Python 3",
   "language": "python",
   "name": "python3"
  },
  "language_info": {
   "codemirror_mode": {
    "name": "ipython",
    "version": 3
   },
   "file_extension": ".py",
   "mimetype": "text/x-python",
   "name": "python",
   "nbconvert_exporter": "python",
   "pygments_lexer": "ipython3",
   "version": "3.8.8"
  },
  "toc": {
   "base_numbering": 1,
   "nav_menu": {},
   "number_sections": true,
   "sideBar": true,
   "skip_h1_title": false,
   "title_cell": "Table of Contents",
   "title_sidebar": "Contents",
   "toc_cell": false,
   "toc_position": {},
   "toc_section_display": true,
   "toc_window_display": false
  }
 },
 "nbformat": 4,
 "nbformat_minor": 5
}
